{
 "cells": [
  {
   "cell_type": "markdown",
   "metadata": {
    "id": "g7Ftvv5BI0us"
   },
   "source": [
    "# Modulok, Adatok beolvasása"
   ]
  },
  {
   "cell_type": "code",
   "execution_count": null,
   "metadata": {
    "colab": {
     "base_uri": "https://localhost:8080/",
     "height": 35
    },
    "id": "hz71ReN5SECz",
    "outputId": "a8eb4b47-a036-45a2-9f9b-e12b498a5a10"
   },
   "outputs": [],
   "source": [
    "import zipfile\n",
    "import pandas as pd\n",
    "import os\n",
    "import plotly.graph_objects as go\n",
    "import numpy as np\n",
    "import matplotlib.pyplot as plt\n",
    "dir = '/temp/mydata'"
   ]
  },
  {
   "cell_type": "code",
   "execution_count": null,
   "metadata": {
    "colab": {
     "base_uri": "https://localhost:8080/"
    },
    "id": "eg_kZRfoR__T",
    "outputId": "76abb3a8-e8c4-42e7-d5f1-5a530c60d239"
   },
   "outputs": [],
   "source": [
    "if not os.path.exists(dir):\n",
    "    os.mkdir(dir)\n",
    "os.chdir(dir)\n",
    "for f in os.listdir():\n",
    "  os.remove(f)\n",
    "!wget --quiet https://github.com/bepti/colab/raw/main/data.zip "
   ]
  },
  {
   "cell_type": "code",
   "execution_count": null,
   "metadata": {
    "id": "U1fJEgD6p2z_"
   },
   "outputs": [],
   "source": [
    "os.chdir(dir) #ha esetleg az előző cella kimaradna... \n",
    "with zipfile.ZipFile('data.zip') as myzip:\n",
    "  myzip.extractall()\n",
    "files = [file for file in os.listdir() if file[-4:]=='.dat'] #csak a .dat fájlok\n",
    "files.sort()"
   ]
  },
  {
   "cell_type": "code",
   "execution_count": null,
   "metadata": {
    "colab": {
     "base_uri": "https://localhost:8080/"
    },
    "id": "1Pk6i3rwQM2-",
    "outputId": "598ec30a-9ebd-4d06-a3a1-e8eef42f7a97"
   },
   "outputs": [],
   "source": [
    "# fájlok beolvasása és dataframe generálása\n",
    "# a mikrokontroller adottságai miatt bináris szervezésű fájlok\n",
    "rows = []\n",
    "for dfile in files:\n",
    "  f = open(dfile,'rb')\n",
    "  exec=dfile[:-14]\n",
    "  start=dfile[-14:-4]\n",
    "  b = f.read(16)\n",
    "  while len(b)>0:\n",
    "    time_ms = int.from_bytes(b[0:4], byteorder='big', signed=True)\n",
    "    imus = [exec,start,time_ms]\n",
    "    for i in range(6):\n",
    "      imus.append(int.from_bytes(b[i*2+4:i*2+6], byteorder='big', signed=True))\n",
    "    rows.append(imus)\n",
    "    b = f.read(16)  \n",
    "  f.close()\n",
    "print('number of samples:',len(rows))\n",
    "df = pd.DataFrame(rows,columns=['exec','start','time_ms','acc_x','acc_y','acc_z','gyr_x','gyr_y','gyr_z'])\n",
    "df.head()"
   ]
  },
  {
   "cell_type": "markdown",
   "metadata": {
    "id": "kSwzMUkgJAeO"
   },
   "source": [
    "# Feature felderítés transzformáció vizualizálás"
   ]
  },
  {
   "cell_type": "code",
   "execution_count": null,
   "metadata": {
    "id": "Wv4SHbL4wta1"
   },
   "outputs": [],
   "source": [
    "# >\n",
    "#max szórású csatornák\n",
    "samples = pd.DataFrame()\n",
    "fig, axs = plt.subplots(2, 5, figsize=(30,10))\n",
    "samples=df.groupby(['exec','start'], as_index=False)['exec'].count()\n",
    "for i in range(0,10):\n",
    "    start = samples.iloc[i,0]\n",
    "    dff = df[df['start']==start].copy().reset_index(drop=True)\n",
    "    max_dev_var = dff.describe().loc['std','acc_x':].idxmax()\n",
    "    ax=axs[i%10//5,i%5]\n",
    "    dff[max_dev_var].plot(ax=ax, title=dff.loc[0,'exec'] +' - '+ dff.loc[0,'start'], label=max_dev_var)\n",
    "    #ax.vlines([50,ax.get_xlim()[1]-100],ax.get_ylim()[0],ax.get_ylim()[1], colors=['g','r'])\n",
    "    ax.hlines([0],ax.get_xlim()[0],ax.get_xlim()[1], colors=['grey'])\n",
    "    ax.legend()"
   ]
  },
  {
   "cell_type": "code",
   "execution_count": null,
   "metadata": {
    "id": "hV0MdNWQ6kh0"
   },
   "outputs": [],
   "source": [
    "# >\n",
    "# Megpróbálom periódusokra vágni a mintákat majd öszefűzni a gyakorlatokat:\n",
    "# Kiválasztom a hat csatorna közül a legnagyobb szórásút (amplitudó), feltételezve hogy ez a csatorna lesz a legjellemzőbb a periódusokra\n",
    "# nyilván ennek nem lesz köze a kettlebell gyakorlat \"elejéhez\" de ez alapjában véve nem lényeges (azt hiszem)\n",
    "# A szándék, hogy a sok azonos gyakorlatot összefűzöm egy nagy többszáz ciklusos virtuális gyakorlattá és abból walk-forward módon egyforma (átfedő) szeleteket vágok a tanításhoz\n",
    "start = pd.DataFrame()\n",
    "for i in range(80,83): #len(samples)):\n",
    "    start = samples.iloc[i,0]\n",
    "    dff = df[df['start']==start].copy().reset_index(drop=True)\n",
    "    max_dev_var = dff.describe().loc['std','acc_x':].idxmax()\n",
    "    max_dev=dff[max_dev_var].rolling(50, center=True).mean()\n",
    "    offset=max_dev.quantile(0.28)\n",
    "    zerocross=(np.sign(max_dev-offset)-np.sign(max_dev.shift(1,fill_value=0)-offset))/2\n",
    "    plt.figure(figsize=(20,7))\n",
    "    plt.plot(dff.index,max_dev)\n",
    "    plt.plot(dff.index,dff[max_dev_var])\n",
    "    plt.hlines([offset],dff.index.min(),dff.index.max() )\n",
    "    plt.vlines(zerocross[zerocross==1].index,offset-1000,offset+1000)\n",
    "    plt.vlines([zerocross[zerocross==1].index[0],zerocross[zerocross==1].index[-1]],offset-4000,offset+4000,colors=['r'])\n",
    "    plt.show()"
   ]
  },
  {
   "cell_type": "code",
   "execution_count": null,
   "metadata": {
    "colab": {
     "background_save": true
    },
    "id": "YvXY1Z1qNxLI"
   },
   "outputs": [],
   "source": [
    "# egy gyakorlat - összes csatorna interaktív vizualizációja\n",
    "dff = df[df['start']==start].copy().reset_index(drop=True)\n",
    "fig = go.Figure(layout_title_text=dff.iloc[0]['start']+' '+dff.iloc[0]['exec'])\n",
    "fig.add_trace(go.Scatter(x=dff.index,y=df['acc_x'],\n",
    "                  mode='lines', name='gyorsulX',\n",
    "                hovertext=df['time_ms']))\n",
    "fig.add_trace(go.Scatter(x=dff.index,y=df['acc_y'],\n",
    "                  mode='lines', name='gyorsulY', hovertext=df['time_ms']))\n",
    "fig.add_trace(go.Scatter(x=dff.index,y=df['acc_z'],\n",
    "                  mode='lines', name='gyorsulZ', hovertext=df['time_ms']))\n",
    "fig.add_trace(go.Scatter(x=dff.index,y=df['gyr_x'],\n",
    "                  mode='lines', name='fordulX', hovertext=df['time_ms']))\n",
    "fig.add_trace(go.Scatter(x=dff.index,y=df['gyr_y'],\n",
    "                  mode='lines', name='fordulY', hovertext=df['time_ms']))\n",
    "fig.add_trace(go.Scatter(x=dff.index,y=df['gyr_z'],\n",
    "                  mode='lines', name='fordulZ', hovertext=df['time_ms']))\n",
    "fig.update_layout(hovermode=\"x\")\n",
    "fig.show()"
   ]
  },
  {
   "cell_type": "markdown",
   "metadata": {
    "id": "wctLZHyYK_Lw"
   },
   "source": [
    "# Adatelőkészítés"
   ]
  },
  {
   "cell_type": "code",
   "execution_count": null,
   "metadata": {
    "id": "1Q61-pQbB6_1"
   },
   "outputs": [],
   "source": [
    "# az azonos gyakorlatokat összekapcsolom úgy hogy a nullaátmeneteknél vágva egy nagy folyamatos \n",
    "# gyakorlattá alakuljanak\n",
    "continous_df = pd.DataFrame(columns=df.columns + ['zerocross'])\n",
    "for e in np.sort(df['exec'].unique()): #gyakorlat típusokon iterál\n",
    "  start = np.sort(df['start'][df['exec']==e].unique()) \n",
    "  for s in start: #típuson belül gyakorlatokon iterál (fájlok)\n",
    "\n",
    "    #megragadok egy gyakorlatot rendezem és indexelem időpillanatra    \n",
    "    dff = df[df['start']==s].copy().sort_values('time_ms').reset_index(drop=True)\n",
    "    \n",
    "    #megkeresem a legnagyobb szórást (amplitudót) mutató csatornát\n",
    "    max_dev_var = dff.describe().loc['std','acc_x':].idxmax() \n",
    "    \n",
    "    #a periódus kereséshez gördülő átlaggal szűröm a mintát (lásd fent a vizualizációt)\n",
    "    max_dev=dff[max_dev_var].rolling(40, center=True).mean()\n",
    "    \n",
    "    #a periódus kereséshez kiválasztom az ideális pszeudo zero tengelyt \n",
    "    offset=max_dev.quantile(0.28)\n",
    "    \n",
    "    #kijelölöm a mintán a (pszeudo) zero átmenetek helyét \n",
    "    zerocross=(np.sign(max_dev-offset)-np.sign(max_dev.shift(1,fill_value=0)-offset))/2 \n",
    "    \n",
    "    #kiválasztom az első és utolsó pozitív átmenetet\n",
    "    period_start = zerocross[zerocross==1].index[0]\n",
    "    period_end = zerocross[zerocross==1].index[-1]\n",
    "    dff['zerocross']=zerocross\n",
    "    \n",
    "    #a kiválasztott pontokon csonkolt gyakorlatot felfűzöm az egyesített gyakorlatok végére\n",
    "    continous_df = continous_df.append(dff.loc[period_start:period_end,:])\n",
    "\n"
   ]
  },
  {
   "cell_type": "code",
   "execution_count": null,
   "metadata": {
    "id": "OEe5YfAe_2Ms"
   },
   "outputs": [],
   "source": [
    "# >\n",
    "# összefűzött gyakorlatok vizualizációja (itt derültek ki félrecimkézések)\n",
    "for e in ['NOTHING','DEADLIFT','HALO','CLEAN', 'SNATCH','SWING']:\n",
    "    dff = continous_df[continous_df['exec']==e].copy()\n",
    "    fig = go.Figure(layout_title_text=dff.iloc[0]['start']+' '+dff.iloc[0]['exec'])\n",
    "    dff = dff.sort_values(['start','time_ms']).reset_index(drop=True)\n",
    "    fig.add_trace(go.Scatter(x=dff.index,y=dff['acc_x'],\n",
    "                      mode='lines', name='gyorsulX', hovertext=dff['start']))\n",
    "    fig.add_trace(go.Scatter(x=dff.index,y=dff['acc_y'],\n",
    "                      mode='lines', name='gyorsulY', hovertext=dff['start']))\n",
    "    fig.add_trace(go.Scatter(x=dff.index,y=dff['acc_z'],\n",
    "                      mode='lines', name='gyorsulZ', hovertext=dff['time_ms']))\n",
    "    fig.add_trace(go.Scatter(x=dff.index,y=dff['gyr_x'],\n",
    "                      mode='lines', name='fordulX', hovertext=dff['exec']))\n",
    "    fig.add_trace(go.Scatter(x=dff.index,y=dff['gyr_y'],\n",
    "                      mode='lines', name='fordulY', hovertext=dff['start']))\n",
    "    fig.add_trace(go.Scatter(x=dff.index,y=dff['gyr_z'],\n",
    "                      mode='lines', name='fordulZ', hovertext=dff['start']))\n",
    "    fig.update_layout(hovermode=\"x\")\n",
    "    fig.show()"
   ]
  },
  {
   "cell_type": "code",
   "execution_count": null,
   "metadata": {
    "id": "wwFJ7gbABchU"
   },
   "outputs": [],
   "source": [
    "# >\n",
    "# ismétlések száma az összefűzött mintában gyakorlatonként\n",
    "for e in ['NOTHING','DEADLIFT','HALO','CLEAN', 'SNATCH','SWING']:\n",
    "    dff = continous_df[continous_df['exec']==e].copy().reset_index(drop=True)\n",
    "    print (e, dff['zerocross'][dff['zerocross']==1].count())"
   ]
  },
  {
   "cell_type": "code",
   "execution_count": null,
   "metadata": {
    "id": "kvO96_biWgHD"
   },
   "outputs": [],
   "source": [
    "# adatelőkészítés tanításhoz, validáláshoz \n",
    "# 200 mintából álló (~5sec) gördülő ablakok kivágása az adatokból\n",
    "# 30 mintánként csúszik az ablak (750msec)\n",
    "X = np.array([])\n",
    "y = np.array([])\n",
    "j=0\n",
    "target_dict={0:'DEADLIFT',1:'HALO',2:'CLEAN', 3:'SNATCH',4:'SWING',5:'NOTHING'}\n",
    "for target, e in target_dict.items():\n",
    "    dff = continous_df[continous_df['exec']==e].copy().reset_index(drop=True)\n",
    "    sample_starts = range(0,len(dff)-200,30)   \n",
    "    for ss in sample_starts:\n",
    "        if len(dff) > ss+199:\n",
    "        ################### ezt az alkalmazás során is meg kell csinálni\n",
    "            X=np.append(X,(dff.loc[ss:ss+199,'acc_x':'gyr_z'].to_numpy()+32768)/65536) \n",
    "            y=np.append(y,target)\n",
    "            j+=1\n",
    "    X=X.reshape(j,200,6)\n",
    "print('X:',X.shape)\n",
    "print('y:',y.shape)"
   ]
  },
  {
   "cell_type": "code",
   "execution_count": null,
   "metadata": {
    "id": "L2cl8M8JWimz"
   },
   "outputs": [],
   "source": [
    "from sklearn.model_selection import train_test_split\n",
    "X_train,X_test,y_train,y_test = train_test_split(X,y,test_size=0.2, random_state=42)\n",
    "print(X_train.shape)\n",
    "print(X_test.shape)\n",
    "print(y_train.shape)\n",
    "print(y_test.shape)"
   ]
  },
  {
   "cell_type": "code",
   "execution_count": null,
   "metadata": {
    "id": "DMmmfMvkds7s"
   },
   "outputs": [],
   "source": [
    "from tensorflow.keras.layers import Input, Dense, Dropout, Conv1D, MaxPool1D, Flatten\n",
    "from tensorflow.keras.models import Model\n",
    "from tensorflow.keras.optimizers import Adadelta, Adam, SGD\n",
    "from tensorflow.keras.losses import sparse_categorical_crossentropy\n",
    "from tensorflow.keras.backend import clear_session\n",
    "import tensorflow as tf"
   ]
  },
  {
   "cell_type": "code",
   "execution_count": null,
   "metadata": {
    "id": "Ix_-ZkkqeAFT"
   },
   "outputs": [],
   "source": [
    "n_classes = 6\n",
    "dropout_rate_1 = 0.3\n",
    "dropout_rate_2 = 0.3\n",
    "batch_size = 25\n",
    "epoch_count = 50"
   ]
  },
  {
   "cell_type": "code",
   "execution_count": null,
   "metadata": {
    "id": "jILos2TXp0jl"
   },
   "outputs": [],
   "source": [
    "tf.compat.v1.reset_default_graph() \n",
    "clear_session() \n",
    "x = Input(shape=(200,6))\n",
    "conv1 = Conv1D(16, kernel_size=3 , activation='relu', input_shape=(200,6))(x)\n",
    "pool1 = MaxPool1D(pool_size=2)(conv1)\n",
    "dropout1 = Dropout(dropout_rate_1)(pool1)\n",
    "conv2 = Conv1D(16, kernel_size=3, activation='relu', input_shape=(100,16))(dropout1)\n",
    "pool2 = MaxPool1D(pool_size=2)(conv2)\n",
    "dropout2 = Dropout(dropout_rate_1)(pool2)\n",
    "pool2_flat = Flatten()(dropout2)\n",
    "dense1 = Dense(64, activation='relu')(pool2_flat)\n",
    "dropout3 = Dropout(dropout_rate_2)(dense1)\n",
    "dense2 = Dense(32, activation='relu')(dropout3)\n",
    "dropout4 = Dropout(dropout_rate_2)(dense2)\n",
    "predictions = Dense(n_classes, activation='softmax')(dropout4)\n",
    "model = Model(inputs=x, outputs=predictions)\n",
    "\n",
    "model.summary()\n"
   ]
  },
  {
   "cell_type": "code",
   "execution_count": null,
   "metadata": {
    "id": "Xbd9Llyrc0a9"
   },
   "outputs": [],
   "source": [
    "loss = sparse_categorical_crossentropy\n",
    "optimizer = 'adam'\n",
    "# Compilation\n",
    "#############\n",
    "model.compile(optimizer=optimizer, loss=loss, metrics=['accuracy'])"
   ]
  },
  {
   "cell_type": "code",
   "execution_count": null,
   "metadata": {
    "id": "cHNrrvTVdM9n"
   },
   "outputs": [],
   "source": [
    "history = model.fit(x=X_train, y=y_train,\n",
    "                    validation_data=(X_test, y_test),\n",
    "                    epochs=epoch_count,\n",
    "                    batch_size=batch_size)"
   ]
  },
  {
   "cell_type": "code",
   "execution_count": null,
   "metadata": {
    "id": "I-nhCxijdjml"
   },
   "outputs": [],
   "source": [
    "model.save('kettlebell_model.h5')"
   ]
  },
  {
   "cell_type": "code",
   "execution_count": null,
   "metadata": {
    "id": "TFsGQVMSsBWf"
   },
   "outputs": [],
   "source": [
    "import socket\n",
    "import pandas as pd\n",
    "import matplotlib.pyplot as plt"
   ]
  },
  {
   "cell_type": "code",
   "execution_count": null,
   "metadata": {
    "id": "CqQEyeREzvAQ"
   },
   "outputs": [],
   "source": [
    "s = socket.socket(socket.AF_INET, socket.SOCK_STREAM)\n",
    "s.connect(('192.168.4.1',8000))"
   ]
  },
  {
   "cell_type": "code",
   "execution_count": null,
   "metadata": {
    "id": "2mdm7XqysGFN"
   },
   "outputs": [],
   "source": [
    "while True:\n",
    "    data = s.recv(3200)\n",
    "    rows = []\n",
    "    for j in range(200):\n",
    "        offset = j*8*2    \n",
    "        b=data[offset:offset+16]\n",
    "        time_ms = int.from_bytes(b[0:4], byteorder='big', signed=True)\n",
    "        imus = [time_ms]\n",
    "        for i in range(6):\n",
    "          imus.append(int.from_bytes(b[i*2+4:i*2+6], byteorder='big', signed=True))\n",
    "        rows.append(imus)\n",
    "    df = pd.DataFrame(rows,columns=['time_ms','acc_x','acc_y','acc_z','gyr_x','gyr_y','gyr_z'])\n",
    "    X = np.array([])\n",
    "    target_dict={0:'DEADLIFT',1:'HALO',2:'CLEAN', 3:'SNATCH',4:'SWING',5:'NOTHING'}\n",
    "    X=(df.loc[:,'acc_x':'gyr_z'].to_numpy()+32768)/65536\n",
    "    X=X.reshape(1,200,6)\n",
    "    pred = model.predict(X)\n",
    "    print(target_dict[np.argmax(pred)], np.max(pred), end='           \\r')\n"
   ]
  },
  {
   "cell_type": "code",
   "execution_count": null,
   "metadata": {},
   "outputs": [],
   "source": []
  },
  {
   "cell_type": "code",
   "execution_count": null,
   "metadata": {},
   "outputs": [],
   "source": []
  },
  {
   "cell_type": "code",
   "execution_count": null,
   "metadata": {},
   "outputs": [],
   "source": []
  },
  {
   "cell_type": "code",
   "execution_count": null,
   "metadata": {},
   "outputs": [],
   "source": []
  },
  {
   "cell_type": "code",
   "execution_count": null,
   "metadata": {},
   "outputs": [],
   "source": []
  },
  {
   "cell_type": "code",
   "execution_count": null,
   "metadata": {},
   "outputs": [],
   "source": []
  },
  {
   "cell_type": "code",
   "execution_count": null,
   "metadata": {
    "id": "EA1cPsrFzqx_"
   },
   "outputs": [],
   "source": [
    "max_amplitudo_csatorna_azonositasa()"
   ]
  },
  {
   "cell_type": "code",
   "execution_count": null,
   "metadata": {
    "id": "BSktSKfzPuEd"
   },
   "outputs": [],
   "source": [
    "periodus_azonositas_vizualizácio()"
   ]
  },
  {
   "cell_type": "code",
   "execution_count": null,
   "metadata": {},
   "outputs": [],
   "source": [
    "def colored(r, g, b, text):\n",
    "    return \"\\033[38;2;{};{};{}m{} \\033[38;2;255;255;255m\".format(r, g, b, text)\n",
    "  \n",
    "text = 'Hello, World'\n",
    "colored_text = colored(255, 0, 0, text)\n",
    "print(colored_text)"
   ]
  },
  {
   "cell_type": "code",
   "execution_count": null,
   "metadata": {},
   "outputs": [],
   "source": []
  }
 ],
 "metadata": {
  "colab": {
   "collapsed_sections": [
    "g7Ftvv5BI0us",
    "kSwzMUkgJAeO",
    "wctLZHyYK_Lw"
   ],
   "name": "process_imu_bin.ipynb",
   "provenance": []
  },
  "kernelspec": {
   "display_name": "Python 3",
   "language": "python",
   "name": "python3"
  },
  "language_info": {
   "codemirror_mode": {
    "name": "ipython",
    "version": 3
   },
   "file_extension": ".py",
   "mimetype": "text/x-python",
   "name": "python",
   "nbconvert_exporter": "python",
   "pygments_lexer": "ipython3",
   "version": "3.8.8"
  }
 },
 "nbformat": 4,
 "nbformat_minor": 1
}
