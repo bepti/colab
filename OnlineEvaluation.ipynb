{
 "cells": [
  {
   "cell_type": "markdown",
   "id": "cffa8ce6",
   "metadata": {},
   "source": [
    "## Valós időben történő kiértékelés (azaz majdnem valós időben)."
   ]
  },
  {
   "cell_type": "markdown",
   "id": "43dfb659",
   "metadata": {},
   "source": [
    "##### A micro-controller-en futó program socket serverként üzemel. A rá csatlakozó kliens felé 5 másodpercenként (azaz 200 minta összegyűjtése után) elküldi az IMU-ról gyűjtött adatokat. Cél az azonnali kiértékelés majd várakozás a következő csomagra.\n",
    "A program futtatása előtt csatlakozni kell az ESP32_KETTLEBELL wifi hálózathoz!"
   ]
  },
  {
   "cell_type": "code",
   "execution_count": 1,
   "id": "26577797",
   "metadata": {},
   "outputs": [],
   "source": [
    "from tensorflow.keras.models import Model\n",
    "from tensorflow.keras.models import load_model\n",
    "import socket\n",
    "import pandas as pd\n",
    "import numpy as np\n",
    "from ipycanvas import Canvas, hold_canvas\n",
    "from threading import Timer\n"
   ]
  },
  {
   "cell_type": "code",
   "execution_count": 2,
   "id": "e8084fa1",
   "metadata": {},
   "outputs": [
    {
     "name": "stdout",
     "output_type": "stream",
     "text": [
      "Model: \"model\"\n",
      "_________________________________________________________________\n",
      " Layer (type)                Output Shape              Param #   \n",
      "=================================================================\n",
      " input_1 (InputLayer)        [(None, 200, 6)]          0         \n",
      "                                                                 \n",
      " conv1d (Conv1D)             (None, 198, 72)           1368      \n",
      "                                                                 \n",
      " max_pooling1d (MaxPooling1D  (None, 99, 72)           0         \n",
      " )                                                               \n",
      "                                                                 \n",
      " dropout (Dropout)           (None, 99, 72)            0         \n",
      "                                                                 \n",
      " conv1d_1 (Conv1D)           (None, 97, 18)            3906      \n",
      "                                                                 \n",
      " max_pooling1d_1 (MaxPooling  (None, 48, 18)           0         \n",
      " 1D)                                                             \n",
      "                                                                 \n",
      " dropout_1 (Dropout)         (None, 48, 18)            0         \n",
      "                                                                 \n",
      " flatten (Flatten)           (None, 864)               0         \n",
      "                                                                 \n",
      " dense (Dense)               (None, 320)               276800    \n",
      "                                                                 \n",
      " dropout_2 (Dropout)         (None, 320)               0         \n",
      "                                                                 \n",
      " dense_1 (Dense)             (None, 32)                10272     \n",
      "                                                                 \n",
      " dropout_3 (Dropout)         (None, 32)                0         \n",
      "                                                                 \n",
      " dense_2 (Dense)             (None, 6)                 198       \n",
      "                                                                 \n",
      "=================================================================\n",
      "Total params: 292,544\n",
      "Trainable params: 292,544\n",
      "Non-trainable params: 0\n",
      "_________________________________________________________________\n"
     ]
    }
   ],
   "source": [
    "#process_imu_convolution által mentett modell betöltése\n",
    "model = load_model('kettlebell_model.h5')\n",
    "model.summary()"
   ]
  },
  {
   "cell_type": "code",
   "execution_count": 3,
   "id": "36be315b",
   "metadata": {},
   "outputs": [],
   "source": [
    "canvas = Canvas(width=1000, height=100)\n",
    "canvas.font = '48px serif'\n",
    "text = ''\n",
    "alpha = 1.0\n",
    "timer=Timer(0.2, lambda:None)\n",
    "def timer_cb(): \n",
    "    global text, alpha, timer\n",
    "    with hold_canvas(canvas):\n",
    "        canvas.clear()\n",
    "        canvas.global_alpha = alpha\n",
    "        canvas.fill_style = 'black'\n",
    "        canvas.fill_text(text, 0, 40)\n",
    "        alpha = alpha - 0.02\n",
    "        if alpha > 0.1:\n",
    "            timer=Timer(0.1, timer_cb)\n",
    "            timer.start()\n",
    "def print_really_big(txt):\n",
    "    global text, alpha, timer\n",
    "    text=txt\n",
    "    alpha = 1.0\n",
    "    timer.cancel()\n",
    "    timer=Timer(0.1, timer_cb)\n",
    "    timer.start()\n"
   ]
  },
  {
   "cell_type": "code",
   "execution_count": 4,
   "id": "aeb1b75a",
   "metadata": {},
   "outputs": [],
   "source": [
    "#kapcsolat felépítése a microcontroller felé (sikeres csatlakozáskor rövid ideig a kijelzőn:\"OK\")\n",
    "s = socket.socket(socket.AF_INET, socket.SOCK_STREAM)\n",
    "s.connect(('192.168.4.1',8000))"
   ]
  },
  {
   "cell_type": "code",
   "execution_count": 5,
   "id": "9b0abc91",
   "metadata": {
    "scrolled": true
   },
   "outputs": [
    {
     "data": {
      "application/vnd.jupyter.widget-view+json": {
       "model_id": "38dfb7f7a028489589cf92761ffcf749",
       "version_major": 2,
       "version_minor": 0
      },
      "text/plain": [
       "Canvas(height=100, width=1000)"
      ]
     },
     "metadata": {},
     "output_type": "display_data"
    },
    {
     "ename": "ConnectionAbortedError",
     "evalue": "[WinError 10053] A felépített kapcsolatot az állomás szoftvere megszakította",
     "output_type": "error",
     "traceback": [
      "\u001b[1;31m---------------------------------------------------------------------------\u001b[0m",
      "\u001b[1;31mConnectionAbortedError\u001b[0m                    Traceback (most recent call last)",
      "\u001b[1;32m<ipython-input-5-90c3ff9a239c>\u001b[0m in \u001b[0;36m<module>\u001b[1;34m\u001b[0m\n\u001b[0;32m      3\u001b[0m \u001b[1;32mwhile\u001b[0m \u001b[1;32mTrue\u001b[0m\u001b[1;33m:\u001b[0m\u001b[1;33m\u001b[0m\u001b[1;33m\u001b[0m\u001b[0m\n\u001b[0;32m      4\u001b[0m     \u001b[1;31m#milisec: 4 bytes + 6 csatorna * 2 bytes = 16 bytes * 200 = 3200\u001b[0m\u001b[1;33m\u001b[0m\u001b[1;33m\u001b[0m\u001b[1;33m\u001b[0m\u001b[0m\n\u001b[1;32m----> 5\u001b[1;33m     \u001b[0mdata\u001b[0m \u001b[1;33m=\u001b[0m \u001b[0ms\u001b[0m\u001b[1;33m.\u001b[0m\u001b[0mrecv\u001b[0m\u001b[1;33m(\u001b[0m\u001b[1;36m3200\u001b[0m\u001b[1;33m)\u001b[0m\u001b[1;33m\u001b[0m\u001b[1;33m\u001b[0m\u001b[0m\n\u001b[0m\u001b[0;32m      6\u001b[0m     \u001b[0mrows\u001b[0m \u001b[1;33m=\u001b[0m \u001b[1;33m[\u001b[0m\u001b[1;33m]\u001b[0m\u001b[1;33m\u001b[0m\u001b[1;33m\u001b[0m\u001b[0m\n\u001b[0;32m      7\u001b[0m     \u001b[1;32mfor\u001b[0m \u001b[0mj\u001b[0m \u001b[1;32min\u001b[0m \u001b[0mrange\u001b[0m\u001b[1;33m(\u001b[0m\u001b[1;36m200\u001b[0m\u001b[1;33m)\u001b[0m\u001b[1;33m:\u001b[0m\u001b[1;33m\u001b[0m\u001b[1;33m\u001b[0m\u001b[0m\n",
      "\u001b[1;31mConnectionAbortedError\u001b[0m: [WinError 10053] A felépített kapcsolatot az állomás szoftvere megszakította"
     ]
    }
   ],
   "source": [
    "#Gyűjtött adatok olvasása, kiértékelése\n",
    "display(canvas)\n",
    "while True:\n",
    "    #milisec: 4 bytes + 6 csatorna * 2 bytes = 16 bytes * 200 = 3200\n",
    "    data = s.recv(3200) \n",
    "    rows = []\n",
    "    for j in range(200):\n",
    "        offset = j*8*2    \n",
    "        b=data[offset:offset+16]\n",
    "        time_ms = int.from_bytes(b[0:4], byteorder='big', signed=True)\n",
    "        imus = [time_ms]\n",
    "        for i in range(6):\n",
    "            imus.append(int.from_bytes(b[i*2+4:i*2+6], byteorder='big', signed=True))\n",
    "        rows.append(imus)\n",
    "    df = pd.DataFrame(rows,columns=['time_ms','acc_x','acc_y','acc_z','gyr_x','gyr_y','gyr_z'])\n",
    "    X = np.array([])\n",
    "    #osztályelnevezések\n",
    "    target_dict={0:'DEADLIFT',1:'HALO',2:'CLEAN', 3:'SNATCH',4:'SWING',5:'NOTHING'}\n",
    "    #lebegőpontos átalakítás a model alkalmazása előtt\n",
    "    X=(df.loc[:,'acc_x':'gyr_z'].to_numpy()+32768)/65536\n",
    "    X=X.reshape(1,200,6)\n",
    "    pred = model.predict(X)\n",
    "    #print(target_dict[np.argmax(pred)], np.max(pred), end='           \\r')\n",
    "    if np.max(pred) > 0.95:\n",
    "        print_really_big(target_dict[np.argmax(pred)]+' '+str(np.max(pred)))\n",
    "    else:\n",
    "        print_really_big('Sorry, Not sure!')"
   ]
  },
  {
   "cell_type": "code",
   "execution_count": null,
   "id": "51b942ff",
   "metadata": {},
   "outputs": [],
   "source": []
  }
 ],
 "metadata": {
  "kernelspec": {
   "display_name": "Python 3",
   "language": "python",
   "name": "python3"
  },
  "language_info": {
   "codemirror_mode": {
    "name": "ipython",
    "version": 3
   },
   "file_extension": ".py",
   "mimetype": "text/x-python",
   "name": "python",
   "nbconvert_exporter": "python",
   "pygments_lexer": "ipython3",
   "version": "3.8.8"
  }
 },
 "nbformat": 4,
 "nbformat_minor": 5
}
